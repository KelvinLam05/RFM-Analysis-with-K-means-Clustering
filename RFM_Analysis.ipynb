{
  "nbformat": 4,
  "nbformat_minor": 0,
  "metadata": {
    "colab": {
      "name": "RFM Analysis.ipynb",
      "provenance": [],
      "collapsed_sections": [],
      "authorship_tag": "ABX9TyPSMUGWCxHXyZBbu3SkeqFJ",
      "include_colab_link": true
    },
    "kernelspec": {
      "name": "python3",
      "display_name": "Python 3"
    },
    "language_info": {
      "name": "python"
    }
  },
  "cells": [
    {
      "cell_type": "markdown",
      "metadata": {
        "id": "view-in-github",
        "colab_type": "text"
      },
      "source": [
        "<a href=\"https://colab.research.google.com/github/KelvinLam05/RFM-Analysis-with-K-means-Clustering/blob/main/RFM_Analysis.ipynb\" target=\"_parent\"><img src=\"https://colab.research.google.com/assets/colab-badge.svg\" alt=\"Open In Colab\"/></a>"
      ]
    },
    {
      "cell_type": "markdown",
      "metadata": {
        "id": "ALhSqqNae9kN"
      },
      "source": [
        "**Goal of the project**\n",
        "\n",
        "The aim of this project will be to perform a customer segmentation by applying RFM analysis and K-Means clustering."
      ]
    },
    {
      "cell_type": "markdown",
      "metadata": {
        "id": "J1JtQfnvf8EQ"
      },
      "source": [
        "**Data set information**\n",
        "\n",
        "Detailed data on sales of consumer goods obtained by ‘scanning’ the bar codes for individual products at electronic points of sale in a retail store. The data provide detailed information about quantities, characteristics and values of goods sold as well as their prices.\n",
        "The anonymized dataset includes 64.682 transactions of 5.242 SKU's sold to 22.625 customers during one year."
      ]
    },
    {
      "cell_type": "markdown",
      "metadata": {
        "id": "jJ7My0mNgCCI"
      },
      "source": [
        "**Attribute information**\n",
        "\n",
        "* Date of Sales Transaction\n",
        "\n",
        "* Customer ID\n",
        "\n",
        "* Transaction ID\n",
        "\n",
        "* SKU Category ID\n",
        "\n",
        "* SKU ID\n",
        "\n",
        "* Quantity Sold\n",
        "\n",
        "* Sales Amount"
      ]
    },
    {
      "cell_type": "code",
      "metadata": {
        "id": "N_3J-PNowwYZ"
      },
      "source": [
        "# Importing libraries\n",
        "import pandas as pd\n",
        "import numpy as np\n",
        "import matplotlib.pyplot as plt\n",
        "import seaborn as sns\n",
        "\n",
        "%matplotlib inline"
      ],
      "execution_count": 1,
      "outputs": []
    },
    {
      "cell_type": "code",
      "metadata": {
        "id": "H2_abMKayC3J"
      },
      "source": [
        "# Load the data\n",
        "df = pd.read_csv('/content/scanner_data.csv')"
      ],
      "execution_count": 2,
      "outputs": []
    },
    {
      "cell_type": "code",
      "metadata": {
        "id": "rXaeP_jxFxU9"
      },
      "source": [
        "# Change column names to lower case\n",
        "df.columns= df.columns.str.lower()"
      ],
      "execution_count": 3,
      "outputs": []
    },
    {
      "cell_type": "code",
      "metadata": {
        "colab": {
          "base_uri": "https://localhost:8080/",
          "height": 204
        },
        "id": "21O4sHXnyb6O",
        "outputId": "3e34116c-780b-4e3e-9d8b-a859ded7cb1c"
      },
      "source": [
        "# Examine the data\n",
        "df.head()"
      ],
      "execution_count": 4,
      "outputs": [
        {
          "output_type": "execute_result",
          "data": {
            "text/html": [
              "<div>\n",
              "<style scoped>\n",
              "    .dataframe tbody tr th:only-of-type {\n",
              "        vertical-align: middle;\n",
              "    }\n",
              "\n",
              "    .dataframe tbody tr th {\n",
              "        vertical-align: top;\n",
              "    }\n",
              "\n",
              "    .dataframe thead th {\n",
              "        text-align: right;\n",
              "    }\n",
              "</style>\n",
              "<table border=\"1\" class=\"dataframe\">\n",
              "  <thead>\n",
              "    <tr style=\"text-align: right;\">\n",
              "      <th></th>\n",
              "      <th>unnamed: 0</th>\n",
              "      <th>date</th>\n",
              "      <th>customer_id</th>\n",
              "      <th>transaction_id</th>\n",
              "      <th>sku_category</th>\n",
              "      <th>sku</th>\n",
              "      <th>quantity</th>\n",
              "      <th>sales_amount</th>\n",
              "    </tr>\n",
              "  </thead>\n",
              "  <tbody>\n",
              "    <tr>\n",
              "      <th>0</th>\n",
              "      <td>1</td>\n",
              "      <td>02/01/2016</td>\n",
              "      <td>2547</td>\n",
              "      <td>1</td>\n",
              "      <td>X52</td>\n",
              "      <td>0EM7L</td>\n",
              "      <td>1.0</td>\n",
              "      <td>3.13</td>\n",
              "    </tr>\n",
              "    <tr>\n",
              "      <th>1</th>\n",
              "      <td>2</td>\n",
              "      <td>02/01/2016</td>\n",
              "      <td>822</td>\n",
              "      <td>2</td>\n",
              "      <td>2ML</td>\n",
              "      <td>68BRQ</td>\n",
              "      <td>1.0</td>\n",
              "      <td>5.46</td>\n",
              "    </tr>\n",
              "    <tr>\n",
              "      <th>2</th>\n",
              "      <td>3</td>\n",
              "      <td>02/01/2016</td>\n",
              "      <td>3686</td>\n",
              "      <td>3</td>\n",
              "      <td>0H2</td>\n",
              "      <td>CZUZX</td>\n",
              "      <td>1.0</td>\n",
              "      <td>6.35</td>\n",
              "    </tr>\n",
              "    <tr>\n",
              "      <th>3</th>\n",
              "      <td>4</td>\n",
              "      <td>02/01/2016</td>\n",
              "      <td>3719</td>\n",
              "      <td>4</td>\n",
              "      <td>0H2</td>\n",
              "      <td>549KK</td>\n",
              "      <td>1.0</td>\n",
              "      <td>5.59</td>\n",
              "    </tr>\n",
              "    <tr>\n",
              "      <th>4</th>\n",
              "      <td>5</td>\n",
              "      <td>02/01/2016</td>\n",
              "      <td>9200</td>\n",
              "      <td>5</td>\n",
              "      <td>0H2</td>\n",
              "      <td>K8EHH</td>\n",
              "      <td>1.0</td>\n",
              "      <td>6.88</td>\n",
              "    </tr>\n",
              "  </tbody>\n",
              "</table>\n",
              "</div>"
            ],
            "text/plain": [
              "   unnamed: 0        date  customer_id  ...    sku quantity sales_amount\n",
              "0           1  02/01/2016         2547  ...  0EM7L      1.0         3.13\n",
              "1           2  02/01/2016          822  ...  68BRQ      1.0         5.46\n",
              "2           3  02/01/2016         3686  ...  CZUZX      1.0         6.35\n",
              "3           4  02/01/2016         3719  ...  549KK      1.0         5.59\n",
              "4           5  02/01/2016         9200  ...  K8EHH      1.0         6.88\n",
              "\n",
              "[5 rows x 8 columns]"
            ]
          },
          "metadata": {},
          "execution_count": 4
        }
      ]
    },
    {
      "cell_type": "code",
      "metadata": {
        "colab": {
          "base_uri": "https://localhost:8080/"
        },
        "id": "frS9FbFnyfFr",
        "outputId": "fc3f051e-ead0-4d10-d46d-ebcee9239d0c"
      },
      "source": [
        "# Overview of all variables, their datatypes\n",
        "df.info()"
      ],
      "execution_count": 5,
      "outputs": [
        {
          "output_type": "stream",
          "name": "stdout",
          "text": [
            "<class 'pandas.core.frame.DataFrame'>\n",
            "RangeIndex: 131706 entries, 0 to 131705\n",
            "Data columns (total 8 columns):\n",
            " #   Column          Non-Null Count   Dtype  \n",
            "---  ------          --------------   -----  \n",
            " 0   unnamed: 0      131706 non-null  int64  \n",
            " 1   date            131706 non-null  object \n",
            " 2   customer_id     131706 non-null  int64  \n",
            " 3   transaction_id  131706 non-null  int64  \n",
            " 4   sku_category    131706 non-null  object \n",
            " 5   sku             131706 non-null  object \n",
            " 6   quantity        131706 non-null  float64\n",
            " 7   sales_amount    131706 non-null  float64\n",
            "dtypes: float64(2), int64(3), object(3)\n",
            "memory usage: 8.0+ MB\n"
          ]
        }
      ]
    },
    {
      "cell_type": "code",
      "metadata": {
        "id": "HDQoHxk2yh2R"
      },
      "source": [
        "# Convert the date column to a datetime\n",
        "df['date'] = df['date'].apply(pd.to_datetime)"
      ],
      "execution_count": 6,
      "outputs": []
    },
    {
      "cell_type": "code",
      "metadata": {
        "id": "BGlDx4Vhypra"
      },
      "source": [
        "# Convert the quantity column to an int\n",
        "df['quantity'] = df['quantity'].apply(int)"
      ],
      "execution_count": 7,
      "outputs": []
    },
    {
      "cell_type": "code",
      "metadata": {
        "colab": {
          "base_uri": "https://localhost:8080/"
        },
        "id": "LWbGa-yqyvpr",
        "outputId": "19df7497-889f-48a8-85aa-0a7eb308487e"
      },
      "source": [
        "# Checking for missing values\n",
        "df.isnull().sum().sort_values(ascending = False)"
      ],
      "execution_count": 8,
      "outputs": [
        {
          "output_type": "execute_result",
          "data": {
            "text/plain": [
              "sales_amount      0\n",
              "quantity          0\n",
              "sku               0\n",
              "sku_category      0\n",
              "transaction_id    0\n",
              "customer_id       0\n",
              "date              0\n",
              "unnamed: 0        0\n",
              "dtype: int64"
            ]
          },
          "metadata": {},
          "execution_count": 8
        }
      ]
    },
    {
      "cell_type": "code",
      "metadata": {
        "colab": {
          "base_uri": "https://localhost:8080/"
        },
        "id": "nHmJZGcWhAU6",
        "outputId": "e78e8036-aff1-4680-be31-dd79ed6f21ce"
      },
      "source": [
        "df.info()"
      ],
      "execution_count": 9,
      "outputs": [
        {
          "output_type": "stream",
          "name": "stdout",
          "text": [
            "<class 'pandas.core.frame.DataFrame'>\n",
            "RangeIndex: 131706 entries, 0 to 131705\n",
            "Data columns (total 8 columns):\n",
            " #   Column          Non-Null Count   Dtype         \n",
            "---  ------          --------------   -----         \n",
            " 0   unnamed: 0      131706 non-null  int64         \n",
            " 1   date            131706 non-null  datetime64[ns]\n",
            " 2   customer_id     131706 non-null  int64         \n",
            " 3   transaction_id  131706 non-null  int64         \n",
            " 4   sku_category    131706 non-null  object        \n",
            " 5   sku             131706 non-null  object        \n",
            " 6   quantity        131706 non-null  int64         \n",
            " 7   sales_amount    131706 non-null  float64       \n",
            "dtypes: datetime64[ns](1), float64(1), int64(4), object(2)\n",
            "memory usage: 8.0+ MB\n"
          ]
        }
      ]
    },
    {
      "cell_type": "markdown",
      "metadata": {
        "id": "Pshhj5sPzdUi"
      },
      "source": [
        "**Engineer the features**"
      ]
    },
    {
      "cell_type": "code",
      "metadata": {
        "colab": {
          "base_uri": "https://localhost:8080/",
          "height": 204
        },
        "id": "gRgUGwERGBwg",
        "outputId": "1ab49769-202f-47d9-aa61-aa87e819e1fe"
      },
      "source": [
        "# Create a dataframe of unique customers\n",
        "df_customers = pd.DataFrame(df['customer_id'].unique())\n",
        "df_customers.columns = ['customer_id']\n",
        "df_customers.head()"
      ],
      "execution_count": 10,
      "outputs": [
        {
          "output_type": "execute_result",
          "data": {
            "text/html": [
              "<div>\n",
              "<style scoped>\n",
              "    .dataframe tbody tr th:only-of-type {\n",
              "        vertical-align: middle;\n",
              "    }\n",
              "\n",
              "    .dataframe tbody tr th {\n",
              "        vertical-align: top;\n",
              "    }\n",
              "\n",
              "    .dataframe thead th {\n",
              "        text-align: right;\n",
              "    }\n",
              "</style>\n",
              "<table border=\"1\" class=\"dataframe\">\n",
              "  <thead>\n",
              "    <tr style=\"text-align: right;\">\n",
              "      <th></th>\n",
              "      <th>customer_id</th>\n",
              "    </tr>\n",
              "  </thead>\n",
              "  <tbody>\n",
              "    <tr>\n",
              "      <th>0</th>\n",
              "      <td>2547</td>\n",
              "    </tr>\n",
              "    <tr>\n",
              "      <th>1</th>\n",
              "      <td>822</td>\n",
              "    </tr>\n",
              "    <tr>\n",
              "      <th>2</th>\n",
              "      <td>3686</td>\n",
              "    </tr>\n",
              "    <tr>\n",
              "      <th>3</th>\n",
              "      <td>3719</td>\n",
              "    </tr>\n",
              "    <tr>\n",
              "      <th>4</th>\n",
              "      <td>9200</td>\n",
              "    </tr>\n",
              "  </tbody>\n",
              "</table>\n",
              "</div>"
            ],
            "text/plain": [
              "   customer_id\n",
              "0         2547\n",
              "1          822\n",
              "2         3686\n",
              "3         3719\n",
              "4         9200"
            ]
          },
          "metadata": {},
          "execution_count": 10
        }
      ]
    },
    {
      "cell_type": "code",
      "metadata": {
        "id": "TyblMC9lFniU"
      },
      "source": [
        "# Calculate customer recency\n",
        "df_recency = df.groupby('customer_id')['date'].max().reset_index()\n",
        "df_recency.columns = ['customer_id','recency_date']\n",
        "df_customers = df_customers.merge(df_recency, on='customer_id')\n",
        "df_customers['recency'] = round((pd.to_datetime('today') - df_customers['recency_date'])\\\n",
        "                                / np.timedelta64(1, 'D') ).astype(int)"
      ],
      "execution_count": 11,
      "outputs": []
    },
    {
      "cell_type": "code",
      "metadata": {
        "id": "mNYj9U5rGMwy"
      },
      "source": [
        "# Calculate order frequency\n",
        "df_frequency = df.groupby('customer_id')['transaction_id'].nunique().reset_index()\n",
        "df_frequency.columns = ['customer_id','frequency']\n",
        "df_customers = df_customers.merge(df_frequency, on = 'customer_id')"
      ],
      "execution_count": 12,
      "outputs": []
    },
    {
      "cell_type": "code",
      "metadata": {
        "id": "BnA88hihGV48"
      },
      "source": [
        "# Calculate monetary value\n",
        "df_monetary = df.groupby('customer_id')['sales_amount'].sum().reset_index()\n",
        "df_monetary.columns = ['customer_id','monetary']\n",
        "df_customers = df_customers.merge(df_monetary, on = 'customer_id')"
      ],
      "execution_count": 13,
      "outputs": []
    },
    {
      "cell_type": "code",
      "metadata": {
        "id": "eKGwpKGBjID7"
      },
      "source": [
        "df_customers.set_index('customer_id', inplace = True)"
      ],
      "execution_count": 14,
      "outputs": []
    },
    {
      "cell_type": "code",
      "metadata": {
        "colab": {
          "base_uri": "https://localhost:8080/",
          "height": 235
        },
        "id": "nspAYSU8GeYG",
        "outputId": "891a2c66-5172-4594-8803-ff64b149fd45"
      },
      "source": [
        "df_customers.head()"
      ],
      "execution_count": 15,
      "outputs": [
        {
          "output_type": "execute_result",
          "data": {
            "text/html": [
              "<div>\n",
              "<style scoped>\n",
              "    .dataframe tbody tr th:only-of-type {\n",
              "        vertical-align: middle;\n",
              "    }\n",
              "\n",
              "    .dataframe tbody tr th {\n",
              "        vertical-align: top;\n",
              "    }\n",
              "\n",
              "    .dataframe thead th {\n",
              "        text-align: right;\n",
              "    }\n",
              "</style>\n",
              "<table border=\"1\" class=\"dataframe\">\n",
              "  <thead>\n",
              "    <tr style=\"text-align: right;\">\n",
              "      <th></th>\n",
              "      <th>recency_date</th>\n",
              "      <th>recency</th>\n",
              "      <th>frequency</th>\n",
              "      <th>monetary</th>\n",
              "    </tr>\n",
              "    <tr>\n",
              "      <th>customer_id</th>\n",
              "      <th></th>\n",
              "      <th></th>\n",
              "      <th></th>\n",
              "      <th></th>\n",
              "    </tr>\n",
              "  </thead>\n",
              "  <tbody>\n",
              "    <tr>\n",
              "      <th>2547</th>\n",
              "      <td>2016-11-04</td>\n",
              "      <td>1772</td>\n",
              "      <td>7</td>\n",
              "      <td>121.36</td>\n",
              "    </tr>\n",
              "    <tr>\n",
              "      <th>822</th>\n",
              "      <td>2016-03-02</td>\n",
              "      <td>2019</td>\n",
              "      <td>3</td>\n",
              "      <td>20.40</td>\n",
              "    </tr>\n",
              "    <tr>\n",
              "      <th>3686</th>\n",
              "      <td>2016-11-01</td>\n",
              "      <td>1775</td>\n",
              "      <td>15</td>\n",
              "      <td>405.44</td>\n",
              "    </tr>\n",
              "    <tr>\n",
              "      <th>3719</th>\n",
              "      <td>2016-12-01</td>\n",
              "      <td>1745</td>\n",
              "      <td>10</td>\n",
              "      <td>420.72</td>\n",
              "    </tr>\n",
              "    <tr>\n",
              "      <th>9200</th>\n",
              "      <td>2016-09-04</td>\n",
              "      <td>1833</td>\n",
              "      <td>2</td>\n",
              "      <td>18.01</td>\n",
              "    </tr>\n",
              "  </tbody>\n",
              "</table>\n",
              "</div>"
            ],
            "text/plain": [
              "            recency_date  recency  frequency  monetary\n",
              "customer_id                                           \n",
              "2547          2016-11-04     1772          7    121.36\n",
              "822           2016-03-02     2019          3     20.40\n",
              "3686          2016-11-01     1775         15    405.44\n",
              "3719          2016-12-01     1745         10    420.72\n",
              "9200          2016-09-04     1833          2     18.01"
            ]
          },
          "metadata": {},
          "execution_count": 15
        }
      ]
    },
    {
      "cell_type": "markdown",
      "metadata": {
        "id": "ZflzBCo80CPj"
      },
      "source": [
        "**Examine the data**"
      ]
    },
    {
      "cell_type": "markdown",
      "metadata": {
        "id": "Ja6vjtVFnMWK"
      },
      "source": [
        "If we use the Pandas describe( ) function to examine the summary statistics for our newly created df_customers dataframe we will see that we have a couple of issues to resolve first. K means expects our data to have equal variance, but the mean and std for each metric indicate that this isn’t the case. This is perfectly normal for RFM data, but it shows that we need to preprocess the data first to resolve this."
      ]
    },
    {
      "cell_type": "code",
      "metadata": {
        "colab": {
          "base_uri": "https://localhost:8080/"
        },
        "id": "KOdxMIBy_9H8",
        "outputId": "2196ac9b-0e4a-4933-8735-2e3c4b1c3b14"
      },
      "source": [
        "df_customers['recency'].describe()"
      ],
      "execution_count": 16,
      "outputs": [
        {
          "output_type": "execute_result",
          "data": {
            "text/plain": [
              "count    22625.000000\n",
              "mean      1859.408796\n",
              "std        109.263227\n",
              "min       1715.000000\n",
              "25%       1759.000000\n",
              "50%       1835.000000\n",
              "75%       1957.000000\n",
              "max       2079.000000\n",
              "Name: recency, dtype: float64"
            ]
          },
          "metadata": {},
          "execution_count": 16
        }
      ]
    },
    {
      "cell_type": "code",
      "metadata": {
        "colab": {
          "base_uri": "https://localhost:8080/"
        },
        "id": "Yaek6dOXlxCc",
        "outputId": "d38db73d-b58c-4bbf-c855-26298747cb50"
      },
      "source": [
        "df_customers['frequency'].describe()"
      ],
      "execution_count": 17,
      "outputs": [
        {
          "output_type": "execute_result",
          "data": {
            "text/plain": [
              "count    22625.000000\n",
              "mean         2.858873\n",
              "std          4.000157\n",
              "min          1.000000\n",
              "25%          1.000000\n",
              "50%          1.000000\n",
              "75%          3.000000\n",
              "max         99.000000\n",
              "Name: frequency, dtype: float64"
            ]
          },
          "metadata": {},
          "execution_count": 17
        }
      ]
    },
    {
      "cell_type": "code",
      "metadata": {
        "colab": {
          "base_uri": "https://localhost:8080/"
        },
        "id": "JnzWu3WzDJSf",
        "outputId": "5cb46f33-52f3-4e4f-8bd8-11fc53fa7672"
      },
      "source": [
        "df_customers['monetary'].describe()"
      ],
      "execution_count": 18,
      "outputs": [
        {
          "output_type": "execute_result",
          "data": {
            "text/plain": [
              "count    22625.000000\n",
              "mean        69.747563\n",
              "std        152.307769\n",
              "min          0.140000\n",
              "25%         10.170000\n",
              "50%         23.850000\n",
              "75%         63.070000\n",
              "max       3985.940000\n",
              "Name: monetary, dtype: float64"
            ]
          },
          "metadata": {},
          "execution_count": 18
        }
      ]
    },
    {
      "cell_type": "markdown",
      "metadata": {
        "id": "Y0oeFMeqdg0R"
      },
      "source": [
        "**Examine the statistical distributions**"
      ]
    },
    {
      "cell_type": "markdown",
      "metadata": {
        "id": "k-3Gd4Lknioo"
      },
      "source": [
        "Similarly, if we examine the statistical distributions of the data using a set of histograms, we will see that the data are strongly skewed. Again, this is perfectly normal in retail, but it shows us that we need to transform the data to make the distribution a bit more “normal”, in statistical terms."
      ]
    },
    {
      "cell_type": "code",
      "metadata": {
        "colab": {
          "base_uri": "https://localhost:8080/",
          "height": 405
        },
        "id": "gR6FZug9-U33",
        "outputId": "a4180809-30ac-41f2-b6ee-ed51ea4ea79f"
      },
      "source": [
        "fig, ax = plt.subplots(figsize = (8, 6))\n",
        "sns.histplot(data = df_customers, x = 'recency')"
      ],
      "execution_count": 19,
      "outputs": [
        {
          "output_type": "execute_result",
          "data": {
            "text/plain": [
              "<matplotlib.axes._subplots.AxesSubplot at 0x7f3468d83710>"
            ]
          },
          "metadata": {},
          "execution_count": 19
        },
        {
          "output_type": "display_data",
          "data": {
            "image/png": "[encoded data removed]",
            "text/plain": [
              "<Figure size 576x432 with 1 Axes>"
            ]
          },
          "metadata": {
            "needs_background": "light"
          }
        }
      ]
    },
    {
      "cell_type": "code",
      "metadata": {
        "colab": {
          "base_uri": "https://localhost:8080/",
          "height": 406
        },
        "id": "wE3t6nAPDZ25",
        "outputId": "d3dc2e06-c8fb-4770-affe-241d75a66300"
      },
      "source": [
        "fig, ax = plt.subplots(figsize = (8, 6))\n",
        "sns.histplot(data = df_customers, x = 'frequency')"
      ],
      "execution_count": 20,
      "outputs": [
        {
          "output_type": "execute_result",
          "data": {
            "text/plain": [
              "<matplotlib.axes._subplots.AxesSubplot at 0x7f3468a090d0>"
            ]
          },
          "metadata": {},
          "execution_count": 20
        },
        {
          "output_type": "display_data",
          "data": {
            "image/png": "[encoded data removed]",
            "text/plain": [
              "<Figure size 576x432 with 1 Axes>"
            ]
          },
          "metadata": {
            "needs_background": "light"
          }
        }
      ]
    },
    {
      "cell_type": "code",
      "metadata": {
        "colab": {
          "base_uri": "https://localhost:8080/",
          "height": 405
        },
        "id": "AwR8FcLIgd1w",
        "outputId": "a05de8f6-6a19-445f-ea05-631c65a7f150"
      },
      "source": [
        "fig, ax = plt.subplots(figsize = (8, 6))\n",
        "sns.histplot(data = df_customers, x = 'monetary')"
      ],
      "execution_count": 21,
      "outputs": [
        {
          "output_type": "execute_result",
          "data": {
            "text/plain": [
              "<matplotlib.axes._subplots.AxesSubplot at 0x7f3467438690>"
            ]
          },
          "metadata": {},
          "execution_count": 21
        },
        {
          "output_type": "display_data",
          "data": {
            "image/png": "[encoded data removed]",
            "text/plain": [
              "<Figure size 576x432 with 1 Axes>"
            ]
          },
          "metadata": {
            "needs_background": "light"
          }
        }
      ]
    },
    {
      "cell_type": "markdown",
      "metadata": {
        "id": "vWuHk_Pp0LRI"
      },
      "source": [
        "**Preprocess the data**"
      ]
    },
    {
      "cell_type": "code",
      "metadata": {
        "id": "RhgurvB7Nwto"
      },
      "source": [
        "# Drop the column recency_date\n",
        "df_rfm = df_customers.drop(['recency_date'], axis = 1)"
      ],
      "execution_count": 22,
      "outputs": []
    },
    {
      "cell_type": "code",
      "metadata": {
        "colab": {
          "base_uri": "https://localhost:8080/",
          "height": 235
        },
        "id": "qy9K_CdZO16k",
        "outputId": "24139358-ee2f-4c99-dba0-6a658388d79f"
      },
      "source": [
        "df_rfm.head()"
      ],
      "execution_count": 23,
      "outputs": [
        {
          "output_type": "execute_result",
          "data": {
            "text/html": [
              "<div>\n",
              "<style scoped>\n",
              "    .dataframe tbody tr th:only-of-type {\n",
              "        vertical-align: middle;\n",
              "    }\n",
              "\n",
              "    .dataframe tbody tr th {\n",
              "        vertical-align: top;\n",
              "    }\n",
              "\n",
              "    .dataframe thead th {\n",
              "        text-align: right;\n",
              "    }\n",
              "</style>\n",
              "<table border=\"1\" class=\"dataframe\">\n",
              "  <thead>\n",
              "    <tr style=\"text-align: right;\">\n",
              "      <th></th>\n",
              "      <th>recency</th>\n",
              "      <th>frequency</th>\n",
              "      <th>monetary</th>\n",
              "    </tr>\n",
              "    <tr>\n",
              "      <th>customer_id</th>\n",
              "      <th></th>\n",
              "      <th></th>\n",
              "      <th></th>\n",
              "    </tr>\n",
              "  </thead>\n",
              "  <tbody>\n",
              "    <tr>\n",
              "      <th>2547</th>\n",
              "      <td>1772</td>\n",
              "      <td>7</td>\n",
              "      <td>121.36</td>\n",
              "    </tr>\n",
              "    <tr>\n",
              "      <th>822</th>\n",
              "      <td>2019</td>\n",
              "      <td>3</td>\n",
              "      <td>20.40</td>\n",
              "    </tr>\n",
              "    <tr>\n",
              "      <th>3686</th>\n",
              "      <td>1775</td>\n",
              "      <td>15</td>\n",
              "      <td>405.44</td>\n",
              "    </tr>\n",
              "    <tr>\n",
              "      <th>3719</th>\n",
              "      <td>1745</td>\n",
              "      <td>10</td>\n",
              "      <td>420.72</td>\n",
              "    </tr>\n",
              "    <tr>\n",
              "      <th>9200</th>\n",
              "      <td>1833</td>\n",
              "      <td>2</td>\n",
              "      <td>18.01</td>\n",
              "    </tr>\n",
              "  </tbody>\n",
              "</table>\n",
              "</div>"
            ],
            "text/plain": [
              "             recency  frequency  monetary\n",
              "customer_id                              \n",
              "2547            1772          7    121.36\n",
              "822             2019          3     20.40\n",
              "3686            1775         15    405.44\n",
              "3719            1745         10    420.72\n",
              "9200            1833          2     18.01"
            ]
          },
          "metadata": {},
          "execution_count": 23
        }
      ]
    },
    {
      "cell_type": "markdown",
      "metadata": {
        "id": "IU7rzOS4SKsO"
      },
      "source": [
        "As a general rule of thumb:\n",
        "\n",
        "* If skewness is less than -1 or greater than 1, the distribution is highly skewed\n",
        "* If skewness is between -1 and -0.5 or between 0.5 and 1, the distribution is moderately skewed\n",
        "* If skewness is between -0.5 and 0.5, the distribution is approximately symmetric"
      ]
    },
    {
      "cell_type": "code",
      "metadata": {
        "id": "kWgLG8GkR465"
      },
      "source": [
        "from scipy.stats import skew"
      ],
      "execution_count": 24,
      "outputs": []
    },
    {
      "cell_type": "code",
      "metadata": {
        "colab": {
          "base_uri": "https://localhost:8080/"
        },
        "id": "Z92chwtCR7_1",
        "outputId": "4f332b5b-63f1-42d2-dd83-50f30a787a65"
      },
      "source": [
        "print('Skew in numberical features :', skew(df_rfm[['recency',\t'frequency',\t'monetary']], bias = False))"
      ],
      "execution_count": 25,
      "outputs": [
        {
          "output_type": "stream",
          "name": "stdout",
          "text": [
            "Skew in numberical features : [0.3942408  6.39295627 7.43197194]\n"
          ]
        }
      ]
    },
    {
      "cell_type": "markdown",
      "metadata": {
        "id": "IGW9gqcUifDz"
      },
      "source": [
        "The data is highly skewed, therefore we will perform data transformations to reduce the skewness of each skewed distribution."
      ]
    },
    {
      "cell_type": "code",
      "metadata": {
        "id": "YaxnoMC8OPPf"
      },
      "source": [
        "import copy"
      ],
      "execution_count": 26,
      "outputs": []
    },
    {
      "cell_type": "code",
      "metadata": {
        "id": "ySu9y3l7Ms35"
      },
      "source": [
        "# Make a deep copy of the dataframe\n",
        "df_rfm_transformed = copy.deepcopy(df_rfm)"
      ],
      "execution_count": 27,
      "outputs": []
    },
    {
      "cell_type": "code",
      "metadata": {
        "colab": {
          "base_uri": "https://localhost:8080/",
          "height": 235
        },
        "id": "ZNYXixj5SCqi",
        "outputId": "9fecf51f-960f-4f90-bef0-6093cc19dcd7"
      },
      "source": [
        "df_rfm_transformed.head()"
      ],
      "execution_count": 28,
      "outputs": [
        {
          "output_type": "execute_result",
          "data": {
            "text/html": [
              "<div>\n",
              "<style scoped>\n",
              "    .dataframe tbody tr th:only-of-type {\n",
              "        vertical-align: middle;\n",
              "    }\n",
              "\n",
              "    .dataframe tbody tr th {\n",
              "        vertical-align: top;\n",
              "    }\n",
              "\n",
              "    .dataframe thead th {\n",
              "        text-align: right;\n",
              "    }\n",
              "</style>\n",
              "<table border=\"1\" class=\"dataframe\">\n",
              "  <thead>\n",
              "    <tr style=\"text-align: right;\">\n",
              "      <th></th>\n",
              "      <th>recency</th>\n",
              "      <th>frequency</th>\n",
              "      <th>monetary</th>\n",
              "    </tr>\n",
              "    <tr>\n",
              "      <th>customer_id</th>\n",
              "      <th></th>\n",
              "      <th></th>\n",
              "      <th></th>\n",
              "    </tr>\n",
              "  </thead>\n",
              "  <tbody>\n",
              "    <tr>\n",
              "      <th>2547</th>\n",
              "      <td>1772</td>\n",
              "      <td>7</td>\n",
              "      <td>121.36</td>\n",
              "    </tr>\n",
              "    <tr>\n",
              "      <th>822</th>\n",
              "      <td>2019</td>\n",
              "      <td>3</td>\n",
              "      <td>20.40</td>\n",
              "    </tr>\n",
              "    <tr>\n",
              "      <th>3686</th>\n",
              "      <td>1775</td>\n",
              "      <td>15</td>\n",
              "      <td>405.44</td>\n",
              "    </tr>\n",
              "    <tr>\n",
              "      <th>3719</th>\n",
              "      <td>1745</td>\n",
              "      <td>10</td>\n",
              "      <td>420.72</td>\n",
              "    </tr>\n",
              "    <tr>\n",
              "      <th>9200</th>\n",
              "      <td>1833</td>\n",
              "      <td>2</td>\n",
              "      <td>18.01</td>\n",
              "    </tr>\n",
              "  </tbody>\n",
              "</table>\n",
              "</div>"
            ],
            "text/plain": [
              "             recency  frequency  monetary\n",
              "customer_id                              \n",
              "2547            1772          7    121.36\n",
              "822             2019          3     20.40\n",
              "3686            1775         15    405.44\n",
              "3719            1745         10    420.72\n",
              "9200            1833          2     18.01"
            ]
          },
          "metadata": {},
          "execution_count": 28
        }
      ]
    },
    {
      "cell_type": "code",
      "metadata": {
        "id": "Sn4e-WvAATk4"
      },
      "source": [
        "from scipy.stats import boxcox "
      ],
      "execution_count": 29,
      "outputs": []
    },
    {
      "cell_type": "code",
      "metadata": {
        "id": "a-QIRa7c8yP_"
      },
      "source": [
        "# Apply Box-Cox transformation\n",
        "df_rfm_transformed['frequency'] = boxcox(df_rfm_transformed['frequency'])[0]"
      ],
      "execution_count": 30,
      "outputs": []
    },
    {
      "cell_type": "code",
      "metadata": {
        "id": "eGR0L7bPAC0w"
      },
      "source": [
        "# Apply log transformation\n",
        "df_rfm_transformed['monetary'] = np.log1p(df_rfm_transformed['monetary'])"
      ],
      "execution_count": 31,
      "outputs": []
    },
    {
      "cell_type": "code",
      "metadata": {
        "colab": {
          "base_uri": "https://localhost:8080/",
          "height": 298
        },
        "id": "hPoje9456XZW",
        "outputId": "22da0284-d40d-4c8b-cb89-0b536c21d201"
      },
      "source": [
        "# Transformed variable\n",
        "sns.histplot(data = df_rfm_transformed, x = 'frequency')"
      ],
      "execution_count": 32,
      "outputs": [
        {
          "output_type": "execute_result",
          "data": {
            "text/plain": [
              "<matplotlib.axes._subplots.AxesSubplot at 0x7f34674a6d10>"
            ]
          },
          "metadata": {},
          "execution_count": 32
        },
        {
          "output_type": "display_data",
          "data": {
            "image/png": "[encoded data removed]",
            "text/plain": [
              "<Figure size 432x288 with 1 Axes>"
            ]
          },
          "metadata": {
            "needs_background": "light"
          }
        }
      ]
    },
    {
      "cell_type": "code",
      "metadata": {
        "colab": {
          "base_uri": "https://localhost:8080/",
          "height": 296
        },
        "id": "2J2pqwL9Bn48",
        "outputId": "31944228-b462-44d6-bba4-534a1be84697"
      },
      "source": [
        "# Transformed variable\n",
        "sns.histplot(data = df_rfm_transformed, x = 'monetary')"
      ],
      "execution_count": 33,
      "outputs": [
        {
          "output_type": "execute_result",
          "data": {
            "text/plain": [
              "<matplotlib.axes._subplots.AxesSubplot at 0x7f34668c87d0>"
            ]
          },
          "metadata": {},
          "execution_count": 33
        },
        {
          "output_type": "display_data",
          "data": {
            "image/png": "[encoded data removed]",
            "text/plain": [
              "<Figure size 432x288 with 1 Axes>"
            ]
          },
          "metadata": {
            "needs_background": "light"
          }
        }
      ]
    },
    {
      "cell_type": "code",
      "metadata": {
        "colab": {
          "base_uri": "https://localhost:8080/",
          "height": 235
        },
        "id": "FZjLa6d4aj14",
        "outputId": "4913eb71-594e-4604-edfa-397c1f5d7f34"
      },
      "source": [
        "df_rfm_transformed.head()"
      ],
      "execution_count": 34,
      "outputs": [
        {
          "output_type": "execute_result",
          "data": {
            "text/html": [
              "<div>\n",
              "<style scoped>\n",
              "    .dataframe tbody tr th:only-of-type {\n",
              "        vertical-align: middle;\n",
              "    }\n",
              "\n",
              "    .dataframe tbody tr th {\n",
              "        vertical-align: top;\n",
              "    }\n",
              "\n",
              "    .dataframe thead th {\n",
              "        text-align: right;\n",
              "    }\n",
              "</style>\n",
              "<table border=\"1\" class=\"dataframe\">\n",
              "  <thead>\n",
              "    <tr style=\"text-align: right;\">\n",
              "      <th></th>\n",
              "      <th>recency</th>\n",
              "      <th>frequency</th>\n",
              "      <th>monetary</th>\n",
              "    </tr>\n",
              "    <tr>\n",
              "      <th>customer_id</th>\n",
              "      <th></th>\n",
              "      <th></th>\n",
              "      <th></th>\n",
              "    </tr>\n",
              "  </thead>\n",
              "  <tbody>\n",
              "    <tr>\n",
              "      <th>2547</th>\n",
              "      <td>1772</td>\n",
              "      <td>0.941191</td>\n",
              "      <td>4.806968</td>\n",
              "    </tr>\n",
              "    <tr>\n",
              "      <th>822</th>\n",
              "      <td>2019</td>\n",
              "      <td>0.709051</td>\n",
              "      <td>3.063391</td>\n",
              "    </tr>\n",
              "    <tr>\n",
              "      <th>3686</th>\n",
              "      <td>1775</td>\n",
              "      <td>1.044835</td>\n",
              "      <td>6.007436</td>\n",
              "    </tr>\n",
              "    <tr>\n",
              "      <th>3719</th>\n",
              "      <td>1745</td>\n",
              "      <td>0.998186</td>\n",
              "      <td>6.044342</td>\n",
              "    </tr>\n",
              "    <tr>\n",
              "      <th>9200</th>\n",
              "      <td>1833</td>\n",
              "      <td>0.521307</td>\n",
              "      <td>2.944965</td>\n",
              "    </tr>\n",
              "  </tbody>\n",
              "</table>\n",
              "</div>"
            ],
            "text/plain": [
              "             recency  frequency  monetary\n",
              "customer_id                              \n",
              "2547            1772   0.941191  4.806968\n",
              "822             2019   0.709051  3.063391\n",
              "3686            1775   1.044835  6.007436\n",
              "3719            1745   0.998186  6.044342\n",
              "9200            1833   0.521307  2.944965"
            ]
          },
          "metadata": {},
          "execution_count": 34
        }
      ]
    },
    {
      "cell_type": "markdown",
      "metadata": {
        "id": "InT7jzbkDFY6"
      },
      "source": [
        "Transformation of the skewed variables has help correct the distribution of the variables. "
      ]
    },
    {
      "cell_type": "code",
      "metadata": {
        "colab": {
          "base_uri": "https://localhost:8080/"
        },
        "id": "NwljQsIbjMwh",
        "outputId": "e6d4e4a9-c14f-436e-8ef9-26c5769b2888"
      },
      "source": [
        "print('Skew in numberical features :', skew(df_rfm_transformed[['frequency', 'monetary']], bias = False))"
      ],
      "execution_count": 35,
      "outputs": [
        {
          "output_type": "stream",
          "name": "stdout",
          "text": [
            "Skew in numberical features : [0.37443459 0.49656092]\n"
          ]
        }
      ]
    },
    {
      "cell_type": "markdown",
      "metadata": {
        "id": "MW7diC7Ka1dL"
      },
      "source": [
        "Now, we will identify the outliers using a box plot and the interquartile range score. The box plot gives us information about data distribution and presence of outliers."
      ]
    },
    {
      "cell_type": "code",
      "metadata": {
        "colab": {
          "base_uri": "https://localhost:8080/",
          "height": 179
        },
        "id": "mc6T_isl6vQ5",
        "outputId": "8e677cf0-e43b-41cd-a97f-fdd7edb3f9c2"
      },
      "source": [
        "# Identifying outliers \n",
        "df_rfm_transformed.plot(subplots = True, layout = (5,5), kind = 'box', figsize = (12,14), patch_artist = True, boxprops = dict(facecolor = 'cornflowerblue'),\n",
        "            capprops = dict(color = 'black'),\n",
        "            whiskerprops = dict(color = 'black'),\n",
        "            flierprops = dict(markeredgecolor = 'black'),\n",
        "            medianprops = dict(color= 'black')\n",
        "            )\n",
        "plt.tick_params(left = False, bottom = False)\n",
        "plt.subplots_adjust(wspace = 0.5);"
      ],
      "execution_count": 36,
      "outputs": [
        {
          "output_type": "display_data",
          "data": {
            "image/png": "[encoded data removed]",
            "text/plain": [
              "<Figure size 864x1008 with 25 Axes>"
            ]
          },
          "metadata": {
            "needs_background": "light"
          }
        }
      ]
    },
    {
      "cell_type": "code",
      "metadata": {
        "colab": {
          "base_uri": "https://localhost:8080/",
          "height": 297
        },
        "id": "exi40IYjVFQC",
        "outputId": "3456518d-1e67-4f17-a315-cd7fcc1c7e16"
      },
      "source": [
        "df_rfm_transformed.describe()"
      ],
      "execution_count": 37,
      "outputs": [
        {
          "output_type": "execute_result",
          "data": {
            "text/html": [
              "<div>\n",
              "<style scoped>\n",
              "    .dataframe tbody tr th:only-of-type {\n",
              "        vertical-align: middle;\n",
              "    }\n",
              "\n",
              "    .dataframe tbody tr th {\n",
              "        vertical-align: top;\n",
              "    }\n",
              "\n",
              "    .dataframe thead th {\n",
              "        text-align: right;\n",
              "    }\n",
              "</style>\n",
              "<table border=\"1\" class=\"dataframe\">\n",
              "  <thead>\n",
              "    <tr style=\"text-align: right;\">\n",
              "      <th></th>\n",
              "      <th>recency</th>\n",
              "      <th>frequency</th>\n",
              "      <th>monetary</th>\n",
              "    </tr>\n",
              "  </thead>\n",
              "  <tbody>\n",
              "    <tr>\n",
              "      <th>count</th>\n",
              "      <td>22625.000000</td>\n",
              "      <td>22625.000000</td>\n",
              "      <td>22625.000000</td>\n",
              "    </tr>\n",
              "    <tr>\n",
              "      <th>mean</th>\n",
              "      <td>1859.408796</td>\n",
              "      <td>0.356430</td>\n",
              "      <td>3.351345</td>\n",
              "    </tr>\n",
              "    <tr>\n",
              "      <th>std</th>\n",
              "      <td>109.263227</td>\n",
              "      <td>0.386221</td>\n",
              "      <td>1.255086</td>\n",
              "    </tr>\n",
              "    <tr>\n",
              "      <th>min</th>\n",
              "      <td>1715.000000</td>\n",
              "      <td>0.000000</td>\n",
              "      <td>0.131028</td>\n",
              "    </tr>\n",
              "    <tr>\n",
              "      <th>25%</th>\n",
              "      <td>1759.000000</td>\n",
              "      <td>0.000000</td>\n",
              "      <td>2.413232</td>\n",
              "    </tr>\n",
              "    <tr>\n",
              "      <th>50%</th>\n",
              "      <td>1835.000000</td>\n",
              "      <td>0.000000</td>\n",
              "      <td>3.212858</td>\n",
              "    </tr>\n",
              "    <tr>\n",
              "      <th>75%</th>\n",
              "      <td>1957.000000</td>\n",
              "      <td>0.709051</td>\n",
              "      <td>4.159976</td>\n",
              "    </tr>\n",
              "    <tr>\n",
              "      <th>max</th>\n",
              "      <td>2079.000000</td>\n",
              "      <td>1.134159</td>\n",
              "      <td>8.290779</td>\n",
              "    </tr>\n",
              "  </tbody>\n",
              "</table>\n",
              "</div>"
            ],
            "text/plain": [
              "            recency     frequency      monetary\n",
              "count  22625.000000  22625.000000  22625.000000\n",
              "mean    1859.408796      0.356430      3.351345\n",
              "std      109.263227      0.386221      1.255086\n",
              "min     1715.000000      0.000000      0.131028\n",
              "25%     1759.000000      0.000000      2.413232\n",
              "50%     1835.000000      0.000000      3.212858\n",
              "75%     1957.000000      0.709051      4.159976\n",
              "max     2079.000000      1.134159      8.290779"
            ]
          },
          "metadata": {},
          "execution_count": 37
        }
      ]
    },
    {
      "cell_type": "markdown",
      "metadata": {
        "id": "nC9uxnlkLNxC"
      },
      "source": [
        "John Tukey distinguishes between possible and probable outliers. A possible outlier is located between the inner and the outer fence, whereas a probable outlier is located outside the outer fence."
      ]
    },
    {
      "cell_type": "markdown",
      "metadata": {
        "id": "kEtckxN_LekY"
      },
      "source": [
        "While the inner and outer fence are usually not shown on the actual box plot, they can be calculated using the interquartile range (IQR) like this:\n",
        "\n",
        "*IQR = Q3 - Q1, whereas Q3 : 75th quartile and Q1 : 25th quartile*\n",
        "\n",
        "*Inner fence = [Q1 - 1.5 x IQR, Q3 + 1.5 x IQR]*\n",
        "\n",
        "*Outer fence = [Q1 - 3 x IQR, Q3 + 3 x IQR]* \n",
        "\n",
        "The distribution’s inner fence is defined as 1.5 x IQR below Q1, and 1.5 x IQR above Q3. The outer fence is defined as 3 x IQR below Q1, and 3 x IQR above Q3. Following Tukey, only the probable outliers are treated, which lie outside the outer fence. "
      ]
    },
    {
      "cell_type": "code",
      "metadata": {
        "colab": {
          "base_uri": "https://localhost:8080/"
        },
        "id": "tX97_cfmerRE",
        "outputId": "f49361b0-9e34-4b4f-9990-11b648381c87"
      },
      "source": [
        "# Outer fences of the variable monetary\n",
        "Q1 = df_rfm_transformed['monetary'].quantile(0.25)\n",
        "Q3 = df_rfm_transformed['monetary'].quantile(0.75)\n",
        "IQR = Q3 - Q1\n",
        "print(IQR)"
      ],
      "execution_count": 38,
      "outputs": [
        {
          "output_type": "stream",
          "name": "stdout",
          "text": [
            "1.746744622569821\n"
          ]
        }
      ]
    },
    {
      "cell_type": "code",
      "metadata": {
        "id": "1mwvgde6e9fx"
      },
      "source": [
        "outer_fence = 3 * IQR\n",
        "outer_fence_le = Q1 - outer_fence\n",
        "outer_fence_ue = Q3 + outer_fence"
      ],
      "execution_count": 39,
      "outputs": []
    },
    {
      "cell_type": "code",
      "metadata": {
        "colab": {
          "base_uri": "https://localhost:8080/"
        },
        "id": "5RBKNaiMfAoe",
        "outputId": "cf766f50-5d4a-4830-b58e-06008ac8dbfb"
      },
      "source": [
        "print('Lower end outer fence: ', outer_fence_le)\n",
        "print('Upper end outer fence: ', outer_fence_ue)"
      ],
      "execution_count": 40,
      "outputs": [
        {
          "output_type": "stream",
          "name": "stdout",
          "text": [
            "Lower end outer fence:  -2.827002254628354\n",
            "Upper end outer fence:  9.400210103360394\n"
          ]
        }
      ]
    },
    {
      "cell_type": "markdown",
      "metadata": {
        "id": "F-rwoQD0IExM"
      },
      "source": [
        "The upper outer fence for the variable “monetary” is roughly 9.40, while the lower end is below zero. Because a monetary value below zero is not meaningful, the data should only be winsorized on its right tail. Now, we can look at values at different percentiles to set fold."
      ]
    },
    {
      "cell_type": "code",
      "metadata": {
        "colab": {
          "base_uri": "https://localhost:8080/"
        },
        "id": "T95klcchjLdr",
        "outputId": "d11862fb-4f5f-47e2-b041-b109b2f77e44"
      },
      "source": [
        "# Explore different quantiles at the upper end\n",
        "print('90% quantile:   ', df_rfm_transformed['monetary'].quantile(0.90))       \n",
        "print('92.5% quantile: ', df_rfm_transformed['monetary'].quantile(0.925))      \n",
        "print('95% quantile:   ', df_rfm_transformed['monetary'].quantile(0.95))       \n",
        "print('97.5% quantile: ', df_rfm_transformed['monetary'].quantile(0.975))      \n",
        "print('99% quantile:   ', df_rfm_transformed['monetary'].quantile(0.99))       \n",
        "print('99.9% quantile: ', df_rfm_transformed['monetary'].quantile(0.999))      "
      ],
      "execution_count": 41,
      "outputs": [
        {
          "output_type": "stream",
          "name": "stdout",
          "text": [
            "90% quantile:    5.10388274187028\n",
            "92.5% quantile:  5.339248153491578\n",
            "95% quantile:    5.663848158245895\n",
            "97.5% quantile:  6.123597462261067\n",
            "99% quantile:    6.612431705224559\n",
            "99.9% quantile:  7.399092679905674\n"
          ]
        }
      ]
    },
    {
      "cell_type": "markdown",
      "metadata": {
        "id": "va7PVMykKlUc"
      },
      "source": [
        "The data points are located inside the outer fence. There are no probable outliers."
      ]
    },
    {
      "cell_type": "code",
      "metadata": {
        "id": "1tRiJoj7O0xH"
      },
      "source": [
        "from sklearn.preprocessing import StandardScaler"
      ],
      "execution_count": 42,
      "outputs": []
    },
    {
      "cell_type": "code",
      "metadata": {
        "id": "pM6N4nQaNh25"
      },
      "source": [
        "# Apply StandardScaler to our data set\n",
        "scaler = StandardScaler()\n",
        "scaler.fit(df_rfm_transformed)\n",
        "df_rfm_scaled = scaler.transform(df_rfm_transformed)"
      ],
      "execution_count": 43,
      "outputs": []
    },
    {
      "cell_type": "code",
      "metadata": {
        "id": "Q5NYOlq8WPZm"
      },
      "source": [
        "# Transform into a dataframe\n",
        "df_rfm_scaled = pd.DataFrame(df_rfm_scaled, index = df_rfm.index, columns = df_rfm_transformed.columns)"
      ],
      "execution_count": 44,
      "outputs": []
    },
    {
      "cell_type": "code",
      "metadata": {
        "id": "ciA1JmuiWmw7",
        "colab": {
          "base_uri": "https://localhost:8080/",
          "height": 235
        },
        "outputId": "a7e05dc9-0142-4d3c-940d-144d3cf358dd"
      },
      "source": [
        "df_rfm_scaled.head()"
      ],
      "execution_count": 45,
      "outputs": [
        {
          "output_type": "execute_result",
          "data": {
            "text/html": [
              "<div>\n",
              "<style scoped>\n",
              "    .dataframe tbody tr th:only-of-type {\n",
              "        vertical-align: middle;\n",
              "    }\n",
              "\n",
              "    .dataframe tbody tr th {\n",
              "        vertical-align: top;\n",
              "    }\n",
              "\n",
              "    .dataframe thead th {\n",
              "        text-align: right;\n",
              "    }\n",
              "</style>\n",
              "<table border=\"1\" class=\"dataframe\">\n",
              "  <thead>\n",
              "    <tr style=\"text-align: right;\">\n",
              "      <th></th>\n",
              "      <th>recency</th>\n",
              "      <th>frequency</th>\n",
              "      <th>monetary</th>\n",
              "    </tr>\n",
              "    <tr>\n",
              "      <th>customer_id</th>\n",
              "      <th></th>\n",
              "      <th></th>\n",
              "      <th></th>\n",
              "    </tr>\n",
              "  </thead>\n",
              "  <tbody>\n",
              "    <tr>\n",
              "      <th>2547</th>\n",
              "      <td>-0.800001</td>\n",
              "      <td>1.514089</td>\n",
              "      <td>1.159805</td>\n",
              "    </tr>\n",
              "    <tr>\n",
              "      <th>822</th>\n",
              "      <td>1.460645</td>\n",
              "      <td>0.913021</td>\n",
              "      <td>-0.229435</td>\n",
              "    </tr>\n",
              "    <tr>\n",
              "      <th>3686</th>\n",
              "      <td>-0.772544</td>\n",
              "      <td>1.782450</td>\n",
              "      <td>2.116310</td>\n",
              "    </tr>\n",
              "    <tr>\n",
              "      <th>3719</th>\n",
              "      <td>-1.047116</td>\n",
              "      <td>1.661665</td>\n",
              "      <td>2.145715</td>\n",
              "    </tr>\n",
              "    <tr>\n",
              "      <th>9200</th>\n",
              "      <td>-0.241704</td>\n",
              "      <td>0.426907</td>\n",
              "      <td>-0.323794</td>\n",
              "    </tr>\n",
              "  </tbody>\n",
              "</table>\n",
              "</div>"
            ],
            "text/plain": [
              "              recency  frequency  monetary\n",
              "customer_id                               \n",
              "2547        -0.800001   1.514089  1.159805\n",
              "822          1.460645   0.913021 -0.229435\n",
              "3686        -0.772544   1.782450  2.116310\n",
              "3719        -1.047116   1.661665  2.145715\n",
              "9200        -0.241704   0.426907 -0.323794"
            ]
          },
          "metadata": {},
          "execution_count": 45
        }
      ]
    },
    {
      "cell_type": "markdown",
      "metadata": {
        "id": "zczFuVu4EtAg"
      },
      "source": [
        "**Find the optimum k clusters**"
      ]
    },
    {
      "cell_type": "markdown",
      "metadata": {
        "id": "-dirhFf-6xZJ"
      },
      "source": [
        "We start by finding the optimal number of clusters for the k-means algorithm. We will use the elbow method."
      ]
    },
    {
      "cell_type": "code",
      "metadata": {
        "id": "W4hsIkjrp09h"
      },
      "source": [
        "from yellowbrick.cluster import KElbowVisualizer\n",
        "from sklearn.cluster import KMeans"
      ],
      "execution_count": 46,
      "outputs": []
    },
    {
      "cell_type": "code",
      "metadata": {
        "id": "lkShb1e_UGal",
        "colab": {
          "base_uri": "https://localhost:8080/",
          "height": 393
        },
        "outputId": "51751ed9-c868-4250-b6c9-21bc59bfe194"
      },
      "source": [
        "# Instantiate the clustering model and visualizer\n",
        "model = KMeans()\n",
        "\n",
        "# k is range of number of clusters.\n",
        "visualizer = KElbowVisualizer(model, k = (2, 12), metric = 'silhouette', timings = True)\n",
        "\n",
        "# Fit the data to the visualizer\n",
        "visualizer.fit(df_rfm_scaled)       \n",
        "\n",
        "# Finalize and render the figure\n",
        "visualizer.poof()      "
      ],
      "execution_count": 47,
      "outputs": [
        {
          "output_type": "display_data",
          "data": {
            "image/png": "[encoded data removed]",
            "text/plain": [
              "<Figure size 576x396 with 2 Axes>"
            ]
          },
          "metadata": {}
        },
        {
          "output_type": "execute_result",
          "data": {
            "text/plain": [
              "<matplotlib.axes._subplots.AxesSubplot at 0x7f345f514850>"
            ]
          },
          "metadata": {},
          "execution_count": 47
        }
      ]
    },
    {
      "cell_type": "code",
      "metadata": {
        "id": "OBzM5OdHUHTZ",
        "colab": {
          "base_uri": "https://localhost:8080/",
          "height": 393
        },
        "outputId": "a3b870a4-ba8b-4ad5-cdf2-9d104017b2df"
      },
      "source": [
        "# Instantiate the clustering model and visualizer\n",
        "model = KMeans()\n",
        "\n",
        "# k is range of number of clusters.\n",
        "visualizer = KElbowVisualizer(model, k = (2, 12), metric = 'calinski_harabasz', timings = True)\n",
        "\n",
        "# Fit the data to the visualizer\n",
        "visualizer.fit(df_rfm_scaled)       \n",
        "\n",
        "# Finalize and render the figure\n",
        "visualizer.poof()        "
      ],
      "execution_count": 48,
      "outputs": [
        {
          "output_type": "display_data",
          "data": {
            "image/png": "[encoded data removed]",
            "text/plain": [
              "<Figure size 576x396 with 2 Axes>"
            ]
          },
          "metadata": {}
        },
        {
          "output_type": "execute_result",
          "data": {
            "text/plain": [
              "<matplotlib.axes._subplots.AxesSubplot at 0x7f34660af6d0>"
            ]
          },
          "metadata": {},
          "execution_count": 48
        }
      ]
    },
    {
      "cell_type": "markdown",
      "metadata": {
        "id": "LD_hhwZZgquQ"
      },
      "source": [
        "I decided to use 2 clusters to perform k-means clustering."
      ]
    },
    {
      "cell_type": "markdown",
      "metadata": {
        "id": "bOoJ0KEk7Q9C"
      },
      "source": [
        "**Apply KMeans clustering**"
      ]
    },
    {
      "cell_type": "code",
      "metadata": {
        "id": "2G1W2D7gJPpT",
        "colab": {
          "base_uri": "https://localhost:8080/"
        },
        "outputId": "f911c193-d691-4622-cfc2-2d41c9195e13"
      },
      "source": [
        "# Choose n_clusters = 2\n",
        "kmeans = KMeans(n_clusters = 2, init = 'k-means++', n_init = 10 ,max_iter = 300, tol = 0.0001,  random_state = 42, algorithm = 'elkan')\n",
        "kmeans.fit(df_rfm_scaled)"
      ],
      "execution_count": 49,
      "outputs": [
        {
          "output_type": "execute_result",
          "data": {
            "text/plain": [
              "KMeans(algorithm='elkan', copy_x=True, init='k-means++', max_iter=300,\n",
              "       n_clusters=2, n_init=10, n_jobs=None, precompute_distances='auto',\n",
              "       random_state=42, tol=0.0001, verbose=0)"
            ]
          },
          "metadata": {},
          "execution_count": 49
        }
      ]
    },
    {
      "cell_type": "code",
      "metadata": {
        "id": "tFZwSkvjJ_Bq"
      },
      "source": [
        "cluster_labels = kmeans.labels_"
      ],
      "execution_count": 50,
      "outputs": []
    },
    {
      "cell_type": "code",
      "metadata": {
        "id": "w39DFAC-rAoW"
      },
      "source": [
        "# Assign the clusters to dataset\n",
        "df_rfm['cluster'] = cluster_labels"
      ],
      "execution_count": 51,
      "outputs": []
    },
    {
      "cell_type": "code",
      "metadata": {
        "id": "WRz2KGY2Ltq3",
        "colab": {
          "base_uri": "https://localhost:8080/",
          "height": 235
        },
        "outputId": "8775d92d-8f07-4507-bea9-2ca67b66c5b4"
      },
      "source": [
        "df_rfm.head()"
      ],
      "execution_count": 52,
      "outputs": [
        {
          "output_type": "execute_result",
          "data": {
            "text/html": [
              "<div>\n",
              "<style scoped>\n",
              "    .dataframe tbody tr th:only-of-type {\n",
              "        vertical-align: middle;\n",
              "    }\n",
              "\n",
              "    .dataframe tbody tr th {\n",
              "        vertical-align: top;\n",
              "    }\n",
              "\n",
              "    .dataframe thead th {\n",
              "        text-align: right;\n",
              "    }\n",
              "</style>\n",
              "<table border=\"1\" class=\"dataframe\">\n",
              "  <thead>\n",
              "    <tr style=\"text-align: right;\">\n",
              "      <th></th>\n",
              "      <th>recency</th>\n",
              "      <th>frequency</th>\n",
              "      <th>monetary</th>\n",
              "      <th>cluster</th>\n",
              "    </tr>\n",
              "    <tr>\n",
              "      <th>customer_id</th>\n",
              "      <th></th>\n",
              "      <th></th>\n",
              "      <th></th>\n",
              "      <th></th>\n",
              "    </tr>\n",
              "  </thead>\n",
              "  <tbody>\n",
              "    <tr>\n",
              "      <th>2547</th>\n",
              "      <td>1772</td>\n",
              "      <td>7</td>\n",
              "      <td>121.36</td>\n",
              "      <td>0</td>\n",
              "    </tr>\n",
              "    <tr>\n",
              "      <th>822</th>\n",
              "      <td>2019</td>\n",
              "      <td>3</td>\n",
              "      <td>20.40</td>\n",
              "      <td>1</td>\n",
              "    </tr>\n",
              "    <tr>\n",
              "      <th>3686</th>\n",
              "      <td>1775</td>\n",
              "      <td>15</td>\n",
              "      <td>405.44</td>\n",
              "      <td>0</td>\n",
              "    </tr>\n",
              "    <tr>\n",
              "      <th>3719</th>\n",
              "      <td>1745</td>\n",
              "      <td>10</td>\n",
              "      <td>420.72</td>\n",
              "      <td>0</td>\n",
              "    </tr>\n",
              "    <tr>\n",
              "      <th>9200</th>\n",
              "      <td>1833</td>\n",
              "      <td>2</td>\n",
              "      <td>18.01</td>\n",
              "      <td>0</td>\n",
              "    </tr>\n",
              "  </tbody>\n",
              "</table>\n",
              "</div>"
            ],
            "text/plain": [
              "             recency  frequency  monetary  cluster\n",
              "customer_id                                       \n",
              "2547            1772          7    121.36        0\n",
              "822             2019          3     20.40        1\n",
              "3686            1775         15    405.44        0\n",
              "3719            1745         10    420.72        0\n",
              "9200            1833          2     18.01        0"
            ]
          },
          "metadata": {},
          "execution_count": 52
        }
      ]
    },
    {
      "cell_type": "markdown",
      "metadata": {
        "id": "_jhNvWC3EooN"
      },
      "source": [
        "**Snake plots**"
      ]
    },
    {
      "cell_type": "markdown",
      "metadata": {
        "id": "Mf6rmgUSDHPs"
      },
      "source": [
        "* Market research technique to compare different segments\n",
        "\n",
        "* Visual representation of each segment's attributes\n",
        "\n",
        "* Plot each cluster's average normalized values of each attribute\n",
        "\n",
        "To plot this we should have normalized data distribution and all the attributes in a single column. We will use pandas melt facility on df_rfm_scaled to achieve that."
      ]
    },
    {
      "cell_type": "code",
      "metadata": {
        "id": "OUN2R8u-NRZE"
      },
      "source": [
        "# Assign the clusters to dataset\n",
        "df_rfm_scaled['cluster'] = cluster_labels"
      ],
      "execution_count": 53,
      "outputs": []
    },
    {
      "cell_type": "code",
      "metadata": {
        "id": "XF2CbuIl-N_R"
      },
      "source": [
        "# Melt data into long format\n",
        "melt = pd.melt(df_rfm_scaled.reset_index(),\n",
        "               id_vars = ['customer_id', 'cluster'],\n",
        "               value_vars = ['recency', 'frequency', 'monetary'],\n",
        "               var_name = 'metric',\n",
        "               value_name = 'value')"
      ],
      "execution_count": 54,
      "outputs": []
    },
    {
      "cell_type": "code",
      "metadata": {
        "colab": {
          "base_uri": "https://localhost:8080/",
          "height": 204
        },
        "id": "dWprTVa0_v7U",
        "outputId": "c86fc47f-999d-4645-aa5c-57fe01e5dd1e"
      },
      "source": [
        "melt.head()"
      ],
      "execution_count": 55,
      "outputs": [
        {
          "output_type": "execute_result",
          "data": {
            "text/html": [
              "<div>\n",
              "<style scoped>\n",
              "    .dataframe tbody tr th:only-of-type {\n",
              "        vertical-align: middle;\n",
              "    }\n",
              "\n",
              "    .dataframe tbody tr th {\n",
              "        vertical-align: top;\n",
              "    }\n",
              "\n",
              "    .dataframe thead th {\n",
              "        text-align: right;\n",
              "    }\n",
              "</style>\n",
              "<table border=\"1\" class=\"dataframe\">\n",
              "  <thead>\n",
              "    <tr style=\"text-align: right;\">\n",
              "      <th></th>\n",
              "      <th>customer_id</th>\n",
              "      <th>cluster</th>\n",
              "      <th>metric</th>\n",
              "      <th>value</th>\n",
              "    </tr>\n",
              "  </thead>\n",
              "  <tbody>\n",
              "    <tr>\n",
              "      <th>0</th>\n",
              "      <td>2547</td>\n",
              "      <td>0</td>\n",
              "      <td>recency</td>\n",
              "      <td>-0.800001</td>\n",
              "    </tr>\n",
              "    <tr>\n",
              "      <th>1</th>\n",
              "      <td>822</td>\n",
              "      <td>1</td>\n",
              "      <td>recency</td>\n",
              "      <td>1.460645</td>\n",
              "    </tr>\n",
              "    <tr>\n",
              "      <th>2</th>\n",
              "      <td>3686</td>\n",
              "      <td>0</td>\n",
              "      <td>recency</td>\n",
              "      <td>-0.772544</td>\n",
              "    </tr>\n",
              "    <tr>\n",
              "      <th>3</th>\n",
              "      <td>3719</td>\n",
              "      <td>0</td>\n",
              "      <td>recency</td>\n",
              "      <td>-1.047116</td>\n",
              "    </tr>\n",
              "    <tr>\n",
              "      <th>4</th>\n",
              "      <td>9200</td>\n",
              "      <td>0</td>\n",
              "      <td>recency</td>\n",
              "      <td>-0.241704</td>\n",
              "    </tr>\n",
              "  </tbody>\n",
              "</table>\n",
              "</div>"
            ],
            "text/plain": [
              "   customer_id  cluster   metric     value\n",
              "0         2547        0  recency -0.800001\n",
              "1          822        1  recency  1.460645\n",
              "2         3686        0  recency -0.772544\n",
              "3         3719        0  recency -1.047116\n",
              "4         9200        0  recency -0.241704"
            ]
          },
          "metadata": {},
          "execution_count": 55
        }
      ]
    },
    {
      "cell_type": "code",
      "metadata": {
        "colab": {
          "base_uri": "https://localhost:8080/",
          "height": 409
        },
        "id": "ZkjqU4hmAhyN",
        "outputId": "4a1cd99a-ee38-4611-a4ab-5c5ed1fba5eb"
      },
      "source": [
        "# Plot\n",
        "plt.figure(figsize = (8, 6))\n",
        "ax = sns.lineplot(x = 'metric', y = 'value', hue = 'cluster', data = melt, palette = 'RdYlGn')\n",
        "ax.grid(False)\n",
        "\n",
        "plt.title('Snake Plot of RFM', fontsize = 14, pad = 10)\n",
        "plt.show();"
      ],
      "execution_count": 56,
      "outputs": [
        {
          "output_type": "display_data",
          "data": {
            "image/png": "[encoded data removed]",
            "text/plain": [
              "<Figure size 576x432 with 1 Axes>"
            ]
          },
          "metadata": {}
        }
      ]
    },
    {
      "cell_type": "markdown",
      "metadata": {
        "id": "5qiTIeawPDXT"
      },
      "source": [
        "So the behaviour of customers in different clusters is evident from the above graph:\n",
        "\n",
        "* Customer in cluster 0 has highest frequency and monetary along with lowest recency value. These are the most valuable customers to the firm.\n",
        "\n",
        "* And the customers in cluster 1 shows a totally opposite behaviour as compared to cluster 0 i.e. the highly unprofitable or the lost customers whom we don't need to pay much attention."
      ]
    },
    {
      "cell_type": "markdown",
      "metadata": {
        "id": "Xo1ywIC5TGBz"
      },
      "source": [
        "From the snake plot it is evident that having a cluster value of 2, segments our customers well."
      ]
    },
    {
      "cell_type": "markdown",
      "metadata": {
        "id": "c8Fx-KKFRI9-"
      },
      "source": [
        "**Creating the customer segments**"
      ]
    },
    {
      "cell_type": "code",
      "metadata": {
        "id": "RexZ0I2fP_Nf"
      },
      "source": [
        "# Assign the clusters to dataset\n",
        "df_rfm['cluster'] = cluster_labels"
      ],
      "execution_count": 57,
      "outputs": []
    },
    {
      "cell_type": "code",
      "metadata": {
        "colab": {
          "base_uri": "https://localhost:8080/",
          "height": 235
        },
        "id": "WGZhhxCdQEtL",
        "outputId": "6d086b5a-c22a-4c9d-d1d8-035ec0e7b9b9"
      },
      "source": [
        "df_rfm.head()"
      ],
      "execution_count": 58,
      "outputs": [
        {
          "output_type": "execute_result",
          "data": {
            "text/html": [
              "<div>\n",
              "<style scoped>\n",
              "    .dataframe tbody tr th:only-of-type {\n",
              "        vertical-align: middle;\n",
              "    }\n",
              "\n",
              "    .dataframe tbody tr th {\n",
              "        vertical-align: top;\n",
              "    }\n",
              "\n",
              "    .dataframe thead th {\n",
              "        text-align: right;\n",
              "    }\n",
              "</style>\n",
              "<table border=\"1\" class=\"dataframe\">\n",
              "  <thead>\n",
              "    <tr style=\"text-align: right;\">\n",
              "      <th></th>\n",
              "      <th>recency</th>\n",
              "      <th>frequency</th>\n",
              "      <th>monetary</th>\n",
              "      <th>cluster</th>\n",
              "    </tr>\n",
              "    <tr>\n",
              "      <th>customer_id</th>\n",
              "      <th></th>\n",
              "      <th></th>\n",
              "      <th></th>\n",
              "      <th></th>\n",
              "    </tr>\n",
              "  </thead>\n",
              "  <tbody>\n",
              "    <tr>\n",
              "      <th>2547</th>\n",
              "      <td>1772</td>\n",
              "      <td>7</td>\n",
              "      <td>121.36</td>\n",
              "      <td>0</td>\n",
              "    </tr>\n",
              "    <tr>\n",
              "      <th>822</th>\n",
              "      <td>2019</td>\n",
              "      <td>3</td>\n",
              "      <td>20.40</td>\n",
              "      <td>1</td>\n",
              "    </tr>\n",
              "    <tr>\n",
              "      <th>3686</th>\n",
              "      <td>1775</td>\n",
              "      <td>15</td>\n",
              "      <td>405.44</td>\n",
              "      <td>0</td>\n",
              "    </tr>\n",
              "    <tr>\n",
              "      <th>3719</th>\n",
              "      <td>1745</td>\n",
              "      <td>10</td>\n",
              "      <td>420.72</td>\n",
              "      <td>0</td>\n",
              "    </tr>\n",
              "    <tr>\n",
              "      <th>9200</th>\n",
              "      <td>1833</td>\n",
              "      <td>2</td>\n",
              "      <td>18.01</td>\n",
              "      <td>0</td>\n",
              "    </tr>\n",
              "  </tbody>\n",
              "</table>\n",
              "</div>"
            ],
            "text/plain": [
              "             recency  frequency  monetary  cluster\n",
              "customer_id                                       \n",
              "2547            1772          7    121.36        0\n",
              "822             2019          3     20.40        1\n",
              "3686            1775         15    405.44        0\n",
              "3719            1745         10    420.72        0\n",
              "9200            1833          2     18.01        0"
            ]
          },
          "metadata": {},
          "execution_count": 58
        }
      ]
    },
    {
      "cell_type": "code",
      "metadata": {
        "colab": {
          "base_uri": "https://localhost:8080/",
          "height": 142
        },
        "id": "fxcOCUsDQLdR",
        "outputId": "a1927cc7-3194-4257-9ac9-3dc0fd5ae541"
      },
      "source": [
        "df_rfm.groupby('cluster').agg(\n",
        "    recency = ('recency', 'mean'),\n",
        "    frequency = ('frequency', 'mean'),\n",
        "    monetary = ('monetary', 'mean'),\n",
        "    cluster_size = ('monetary','count')\n",
        ").round(1).sort_values(by = 'recency')"
      ],
      "execution_count": 59,
      "outputs": [
        {
          "output_type": "execute_result",
          "data": {
            "text/html": [
              "<div>\n",
              "<style scoped>\n",
              "    .dataframe tbody tr th:only-of-type {\n",
              "        vertical-align: middle;\n",
              "    }\n",
              "\n",
              "    .dataframe tbody tr th {\n",
              "        vertical-align: top;\n",
              "    }\n",
              "\n",
              "    .dataframe thead th {\n",
              "        text-align: right;\n",
              "    }\n",
              "</style>\n",
              "<table border=\"1\" class=\"dataframe\">\n",
              "  <thead>\n",
              "    <tr style=\"text-align: right;\">\n",
              "      <th></th>\n",
              "      <th>recency</th>\n",
              "      <th>frequency</th>\n",
              "      <th>monetary</th>\n",
              "      <th>cluster_size</th>\n",
              "    </tr>\n",
              "    <tr>\n",
              "      <th>cluster</th>\n",
              "      <th></th>\n",
              "      <th></th>\n",
              "      <th></th>\n",
              "      <th></th>\n",
              "    </tr>\n",
              "  </thead>\n",
              "  <tbody>\n",
              "    <tr>\n",
              "      <th>0</th>\n",
              "      <td>1793.0</td>\n",
              "      <td>5.2</td>\n",
              "      <td>139.4</td>\n",
              "      <td>9545</td>\n",
              "    </tr>\n",
              "    <tr>\n",
              "      <th>1</th>\n",
              "      <td>1907.9</td>\n",
              "      <td>1.1</td>\n",
              "      <td>18.9</td>\n",
              "      <td>13080</td>\n",
              "    </tr>\n",
              "  </tbody>\n",
              "</table>\n",
              "</div>"
            ],
            "text/plain": [
              "         recency  frequency  monetary  cluster_size\n",
              "cluster                                            \n",
              "0         1793.0        5.2     139.4          9545\n",
              "1         1907.9        1.1      18.9         13080"
            ]
          },
          "metadata": {},
          "execution_count": 59
        }
      ]
    },
    {
      "cell_type": "markdown",
      "metadata": {
        "id": "SJR-Nx9gchPy"
      },
      "source": [
        "Customers in cluster 0 made the last purchase a long time ago, but they spent a lot of money, so it is worth to encourage them to go back by providing them with some special offers. The worst customers are in cluster 1 – they made last purchase a long time ago and spent little money."
      ]
    },
    {
      "cell_type": "markdown",
      "metadata": {
        "id": "wBCezg87EeQr"
      },
      "source": [
        "**Heat Map** "
      ]
    },
    {
      "cell_type": "markdown",
      "metadata": {
        "id": "Og_mow9TASZr"
      },
      "source": [
        "We will utilize heat map to visualize the relative importance of each attributes in all four customer segments i.e. clusters. It calculates importance score by dividing them and subtracting 1 (ensures 0 is returned when cluster average equals population average).\n",
        "\n",
        "The farther a ratio is from 0, the more important that attribute is for a segment relative to the total population."
      ]
    },
    {
      "cell_type": "code",
      "metadata": {
        "colab": {
          "base_uri": "https://localhost:8080/",
          "height": 142
        },
        "id": "rsOviuoFp2vM",
        "outputId": "ae1844e6-816d-46b5-cb0d-c037b5a13e9a"
      },
      "source": [
        "# Average attributes for each cluster\n",
        "cluster_avg = df_rfm.groupby(['cluster']).mean()\n",
        "cluster_avg.head()"
      ],
      "execution_count": 60,
      "outputs": [
        {
          "output_type": "execute_result",
          "data": {
            "text/html": [
              "<div>\n",
              "<style scoped>\n",
              "    .dataframe tbody tr th:only-of-type {\n",
              "        vertical-align: middle;\n",
              "    }\n",
              "\n",
              "    .dataframe tbody tr th {\n",
              "        vertical-align: top;\n",
              "    }\n",
              "\n",
              "    .dataframe thead th {\n",
              "        text-align: right;\n",
              "    }\n",
              "</style>\n",
              "<table border=\"1\" class=\"dataframe\">\n",
              "  <thead>\n",
              "    <tr style=\"text-align: right;\">\n",
              "      <th></th>\n",
              "      <th>recency</th>\n",
              "      <th>frequency</th>\n",
              "      <th>monetary</th>\n",
              "    </tr>\n",
              "    <tr>\n",
              "      <th>cluster</th>\n",
              "      <th></th>\n",
              "      <th></th>\n",
              "      <th></th>\n",
              "    </tr>\n",
              "  </thead>\n",
              "  <tbody>\n",
              "    <tr>\n",
              "      <th>0</th>\n",
              "      <td>1793.009219</td>\n",
              "      <td>5.218753</td>\n",
              "      <td>139.408357</td>\n",
              "    </tr>\n",
              "    <tr>\n",
              "      <th>1</th>\n",
              "      <td>1907.863226</td>\n",
              "      <td>1.136774</td>\n",
              "      <td>18.913291</td>\n",
              "    </tr>\n",
              "  </tbody>\n",
              "</table>\n",
              "</div>"
            ],
            "text/plain": [
              "             recency  frequency    monetary\n",
              "cluster                                    \n",
              "0        1793.009219   5.218753  139.408357\n",
              "1        1907.863226   1.136774   18.913291"
            ]
          },
          "metadata": {},
          "execution_count": 60
        }
      ]
    },
    {
      "cell_type": "code",
      "metadata": {
        "colab": {
          "base_uri": "https://localhost:8080/"
        },
        "id": "wgeQ8nY3qUZJ",
        "outputId": "35f8864e-ab3d-4ec1-f2da-2cbf76ceb749"
      },
      "source": [
        "# Calculate the population average\n",
        "population_avg = df_rfm.iloc[:, 0: 3].mean()\n",
        "population_avg.head()"
      ],
      "execution_count": 61,
      "outputs": [
        {
          "output_type": "execute_result",
          "data": {
            "text/plain": [
              "recency      1859.408796\n",
              "frequency       2.858873\n",
              "monetary       69.747563\n",
              "dtype: float64"
            ]
          },
          "metadata": {},
          "execution_count": 61
        }
      ]
    },
    {
      "cell_type": "code",
      "metadata": {
        "colab": {
          "base_uri": "https://localhost:8080/",
          "height": 142
        },
        "id": "KQMC2bs-oY7v",
        "outputId": "79353b6f-9629-4cfe-975a-610d26f01faa"
      },
      "source": [
        "# Calculate relative importance of attributes \n",
        "relative_imp = cluster_avg / population_avg - 1\n",
        "relative_imp.head()"
      ],
      "execution_count": 62,
      "outputs": [
        {
          "output_type": "execute_result",
          "data": {
            "text/html": [
              "<div>\n",
              "<style scoped>\n",
              "    .dataframe tbody tr th:only-of-type {\n",
              "        vertical-align: middle;\n",
              "    }\n",
              "\n",
              "    .dataframe tbody tr th {\n",
              "        vertical-align: top;\n",
              "    }\n",
              "\n",
              "    .dataframe thead th {\n",
              "        text-align: right;\n",
              "    }\n",
              "</style>\n",
              "<table border=\"1\" class=\"dataframe\">\n",
              "  <thead>\n",
              "    <tr style=\"text-align: right;\">\n",
              "      <th></th>\n",
              "      <th>recency</th>\n",
              "      <th>frequency</th>\n",
              "      <th>monetary</th>\n",
              "    </tr>\n",
              "    <tr>\n",
              "      <th>cluster</th>\n",
              "      <th></th>\n",
              "      <th></th>\n",
              "      <th></th>\n",
              "    </tr>\n",
              "  </thead>\n",
              "  <tbody>\n",
              "    <tr>\n",
              "      <th>0</th>\n",
              "      <td>-0.035710</td>\n",
              "      <td>0.825458</td>\n",
              "      <td>0.998756</td>\n",
              "    </tr>\n",
              "    <tr>\n",
              "      <th>1</th>\n",
              "      <td>0.026059</td>\n",
              "      <td>-0.602370</td>\n",
              "      <td>-0.728832</td>\n",
              "    </tr>\n",
              "  </tbody>\n",
              "</table>\n",
              "</div>"
            ],
            "text/plain": [
              "          recency  frequency  monetary\n",
              "cluster                               \n",
              "0       -0.035710   0.825458  0.998756\n",
              "1        0.026059  -0.602370 -0.728832"
            ]
          },
          "metadata": {},
          "execution_count": 62
        }
      ]
    },
    {
      "cell_type": "code",
      "metadata": {
        "colab": {
          "base_uri": "https://localhost:8080/",
          "height": 385
        },
        "id": "zQtDxANNrSkO",
        "outputId": "b2e59d46-386e-4e43-ff2d-74656d089061"
      },
      "source": [
        "# Heatmap\n",
        "sns.heatmap(relative_imp, cmap = 'RdYlGn', fmt = '.2f', annot = True)\n",
        "plt.title('Relative importance of attributes', fontsize = 14, pad = 10)\n",
        "plt.plot()"
      ],
      "execution_count": 63,
      "outputs": [
        {
          "output_type": "execute_result",
          "data": {
            "text/plain": [
              "[]"
            ]
          },
          "metadata": {},
          "execution_count": 63
        },
        {
          "output_type": "display_data",
          "data": {
            "image/png": "[encoded data removed]",
            "text/plain": [
              "<Figure size 576x396 with 2 Axes>"
            ]
          },
          "metadata": {}
        }
      ]
    },
    {
      "cell_type": "markdown",
      "metadata": {
        "id": "yNNar7Z3EiV5"
      },
      "source": [
        "**Labeling the customers by segment**"
      ]
    },
    {
      "cell_type": "markdown",
      "metadata": {
        "id": "_Zk4SsP5eXnt"
      },
      "source": [
        "Finally, to make our new segments a bit easier for marketers to understand, we can assign them each a label indicating their approximate value to the business. "
      ]
    },
    {
      "cell_type": "code",
      "metadata": {
        "id": "cumz0uVuDmiD",
        "colab": {
          "base_uri": "https://localhost:8080/",
          "height": 235
        },
        "outputId": "3ebddef1-afcf-4eae-d387-64901fc5bcbe"
      },
      "source": [
        "segments = {0: 'gold', 1: 'silver'}\n",
        "df_rfm['segment'] = df_rfm['cluster'].map(segments)\n",
        "df_rfm.head()"
      ],
      "execution_count": 64,
      "outputs": [
        {
          "output_type": "execute_result",
          "data": {
            "text/html": [
              "<div>\n",
              "<style scoped>\n",
              "    .dataframe tbody tr th:only-of-type {\n",
              "        vertical-align: middle;\n",
              "    }\n",
              "\n",
              "    .dataframe tbody tr th {\n",
              "        vertical-align: top;\n",
              "    }\n",
              "\n",
              "    .dataframe thead th {\n",
              "        text-align: right;\n",
              "    }\n",
              "</style>\n",
              "<table border=\"1\" class=\"dataframe\">\n",
              "  <thead>\n",
              "    <tr style=\"text-align: right;\">\n",
              "      <th></th>\n",
              "      <th>recency</th>\n",
              "      <th>frequency</th>\n",
              "      <th>monetary</th>\n",
              "      <th>cluster</th>\n",
              "      <th>segment</th>\n",
              "    </tr>\n",
              "    <tr>\n",
              "      <th>customer_id</th>\n",
              "      <th></th>\n",
              "      <th></th>\n",
              "      <th></th>\n",
              "      <th></th>\n",
              "      <th></th>\n",
              "    </tr>\n",
              "  </thead>\n",
              "  <tbody>\n",
              "    <tr>\n",
              "      <th>2547</th>\n",
              "      <td>1772</td>\n",
              "      <td>7</td>\n",
              "      <td>121.36</td>\n",
              "      <td>0</td>\n",
              "      <td>gold</td>\n",
              "    </tr>\n",
              "    <tr>\n",
              "      <th>822</th>\n",
              "      <td>2019</td>\n",
              "      <td>3</td>\n",
              "      <td>20.40</td>\n",
              "      <td>1</td>\n",
              "      <td>silver</td>\n",
              "    </tr>\n",
              "    <tr>\n",
              "      <th>3686</th>\n",
              "      <td>1775</td>\n",
              "      <td>15</td>\n",
              "      <td>405.44</td>\n",
              "      <td>0</td>\n",
              "      <td>gold</td>\n",
              "    </tr>\n",
              "    <tr>\n",
              "      <th>3719</th>\n",
              "      <td>1745</td>\n",
              "      <td>10</td>\n",
              "      <td>420.72</td>\n",
              "      <td>0</td>\n",
              "      <td>gold</td>\n",
              "    </tr>\n",
              "    <tr>\n",
              "      <th>9200</th>\n",
              "      <td>1833</td>\n",
              "      <td>2</td>\n",
              "      <td>18.01</td>\n",
              "      <td>0</td>\n",
              "      <td>gold</td>\n",
              "    </tr>\n",
              "  </tbody>\n",
              "</table>\n",
              "</div>"
            ],
            "text/plain": [
              "             recency  frequency  monetary  cluster segment\n",
              "customer_id                                               \n",
              "2547            1772          7    121.36        0    gold\n",
              "822             2019          3     20.40        1  silver\n",
              "3686            1775         15    405.44        0    gold\n",
              "3719            1745         10    420.72        0    gold\n",
              "9200            1833          2     18.01        0    gold"
            ]
          },
          "metadata": {},
          "execution_count": 64
        }
      ]
    }
  ]
}